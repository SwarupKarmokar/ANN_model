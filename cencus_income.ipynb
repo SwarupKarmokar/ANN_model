{
 "cells": [
  {
   "cell_type": "code",
   "execution_count": 1,
   "metadata": {},
   "outputs": [],
   "source": [
    "import pandas as pd\n",
    "import matplotlib.pyplot as plt"
   ]
  },
  {
   "cell_type": "code",
   "execution_count": 2,
   "metadata": {},
   "outputs": [],
   "source": [
    "import torch\n",
    "import torch.nn as nn\n",
    "import torch.nn.functional as F"
   ]
  },
  {
   "cell_type": "code",
   "execution_count": 3,
   "metadata": {},
   "outputs": [
    {
     "data": {
      "text/plain": [
       "True"
      ]
     },
     "execution_count": 3,
     "metadata": {},
     "output_type": "execute_result"
    }
   ],
   "source": [
    "torch.cuda.is_available()"
   ]
  },
  {
   "cell_type": "code",
   "execution_count": 4,
   "metadata": {},
   "outputs": [],
   "source": [
    "df = pd.read_csv('../PYTORCH_NOTEBOOKS/Data/income.csv')"
   ]
  },
  {
   "cell_type": "code",
   "execution_count": 5,
   "metadata": {},
   "outputs": [
    {
     "data": {
      "text/html": [
       "<div>\n",
       "<style scoped>\n",
       "    .dataframe tbody tr th:only-of-type {\n",
       "        vertical-align: middle;\n",
       "    }\n",
       "\n",
       "    .dataframe tbody tr th {\n",
       "        vertical-align: top;\n",
       "    }\n",
       "\n",
       "    .dataframe thead th {\n",
       "        text-align: right;\n",
       "    }\n",
       "</style>\n",
       "<table border=\"1\" class=\"dataframe\">\n",
       "  <thead>\n",
       "    <tr style=\"text-align: right;\">\n",
       "      <th></th>\n",
       "      <th>age</th>\n",
       "      <th>sex</th>\n",
       "      <th>education</th>\n",
       "      <th>education-num</th>\n",
       "      <th>marital-status</th>\n",
       "      <th>workclass</th>\n",
       "      <th>occupation</th>\n",
       "      <th>hours-per-week</th>\n",
       "      <th>income</th>\n",
       "      <th>label</th>\n",
       "    </tr>\n",
       "  </thead>\n",
       "  <tbody>\n",
       "    <tr>\n",
       "      <th>0</th>\n",
       "      <td>27</td>\n",
       "      <td>Male</td>\n",
       "      <td>HS-grad</td>\n",
       "      <td>9</td>\n",
       "      <td>Never-married</td>\n",
       "      <td>Private</td>\n",
       "      <td>Craft-repair</td>\n",
       "      <td>40</td>\n",
       "      <td>&lt;=50K</td>\n",
       "      <td>0</td>\n",
       "    </tr>\n",
       "    <tr>\n",
       "      <th>1</th>\n",
       "      <td>47</td>\n",
       "      <td>Male</td>\n",
       "      <td>Masters</td>\n",
       "      <td>14</td>\n",
       "      <td>Married</td>\n",
       "      <td>Local-gov</td>\n",
       "      <td>Exec-managerial</td>\n",
       "      <td>50</td>\n",
       "      <td>&gt;50K</td>\n",
       "      <td>1</td>\n",
       "    </tr>\n",
       "    <tr>\n",
       "      <th>2</th>\n",
       "      <td>59</td>\n",
       "      <td>Male</td>\n",
       "      <td>HS-grad</td>\n",
       "      <td>9</td>\n",
       "      <td>Divorced</td>\n",
       "      <td>Self-emp</td>\n",
       "      <td>Prof-specialty</td>\n",
       "      <td>20</td>\n",
       "      <td>&lt;=50K</td>\n",
       "      <td>0</td>\n",
       "    </tr>\n",
       "    <tr>\n",
       "      <th>3</th>\n",
       "      <td>38</td>\n",
       "      <td>Female</td>\n",
       "      <td>Prof-school</td>\n",
       "      <td>15</td>\n",
       "      <td>Never-married</td>\n",
       "      <td>Federal-gov</td>\n",
       "      <td>Prof-specialty</td>\n",
       "      <td>57</td>\n",
       "      <td>&gt;50K</td>\n",
       "      <td>1</td>\n",
       "    </tr>\n",
       "    <tr>\n",
       "      <th>4</th>\n",
       "      <td>64</td>\n",
       "      <td>Female</td>\n",
       "      <td>11th</td>\n",
       "      <td>7</td>\n",
       "      <td>Widowed</td>\n",
       "      <td>Private</td>\n",
       "      <td>Farming-fishing</td>\n",
       "      <td>40</td>\n",
       "      <td>&lt;=50K</td>\n",
       "      <td>0</td>\n",
       "    </tr>\n",
       "  </tbody>\n",
       "</table>\n",
       "</div>"
      ],
      "text/plain": [
       "   age     sex    education  education-num marital-status    workclass  \\\n",
       "0   27    Male      HS-grad              9  Never-married      Private   \n",
       "1   47    Male      Masters             14        Married    Local-gov   \n",
       "2   59    Male      HS-grad              9       Divorced     Self-emp   \n",
       "3   38  Female  Prof-school             15  Never-married  Federal-gov   \n",
       "4   64  Female         11th              7        Widowed      Private   \n",
       "\n",
       "        occupation  hours-per-week income  label  \n",
       "0     Craft-repair              40  <=50K      0  \n",
       "1  Exec-managerial              50   >50K      1  \n",
       "2   Prof-specialty              20  <=50K      0  \n",
       "3   Prof-specialty              57   >50K      1  \n",
       "4  Farming-fishing              40  <=50K      0  "
      ]
     },
     "execution_count": 5,
     "metadata": {},
     "output_type": "execute_result"
    }
   ],
   "source": [
    "df.head()"
   ]
  },
  {
   "cell_type": "code",
   "execution_count": 6,
   "metadata": {},
   "outputs": [
    {
     "name": "stdout",
     "output_type": "stream",
     "text": [
      "<class 'pandas.core.frame.DataFrame'>\n",
      "RangeIndex: 30000 entries, 0 to 29999\n",
      "Data columns (total 10 columns):\n",
      " #   Column          Non-Null Count  Dtype \n",
      "---  ------          --------------  ----- \n",
      " 0   age             30000 non-null  int64 \n",
      " 1   sex             30000 non-null  object\n",
      " 2   education       30000 non-null  object\n",
      " 3   education-num   30000 non-null  int64 \n",
      " 4   marital-status  30000 non-null  object\n",
      " 5   workclass       30000 non-null  object\n",
      " 6   occupation      30000 non-null  object\n",
      " 7   hours-per-week  30000 non-null  int64 \n",
      " 8   income          30000 non-null  object\n",
      " 9   label           30000 non-null  int64 \n",
      "dtypes: int64(4), object(6)\n",
      "memory usage: 2.3+ MB\n"
     ]
    }
   ],
   "source": [
    "df.info()"
   ]
  },
  {
   "cell_type": "code",
   "execution_count": 7,
   "metadata": {},
   "outputs": [
    {
     "name": "stdout",
     "output_type": "stream",
     "text": [
      "column: age--------> unique_value: 72\n",
      "column: sex--------> unique_value: 2\n",
      "column: education--------> unique_value: 14\n",
      "column: education-num--------> unique_value: 14\n",
      "column: marital-status--------> unique_value: 6\n",
      "column: workclass--------> unique_value: 5\n",
      "column: occupation--------> unique_value: 12\n",
      "column: hours-per-week--------> unique_value: 60\n",
      "column: income--------> unique_value: 2\n",
      "column: label--------> unique_value: 2\n"
     ]
    }
   ],
   "source": [
    "for i in df.columns:\n",
    "    print(f'column: {i}--------> unique_value: {df[i].nunique()}')"
   ]
  },
  {
   "cell_type": "code",
   "execution_count": 8,
   "metadata": {},
   "outputs": [
    {
     "data": {
      "text/plain": [
       "Index(['age', 'sex', 'education', 'education-num', 'marital-status',\n",
       "       'workclass', 'occupation', 'hours-per-week', 'income', 'label'],\n",
       "      dtype='object')"
      ]
     },
     "execution_count": 8,
     "metadata": {},
     "output_type": "execute_result"
    }
   ],
   "source": [
    "df.columns"
   ]
  },
  {
   "cell_type": "code",
   "execution_count": 9,
   "metadata": {},
   "outputs": [],
   "source": [
    "category_columns = ['sex', 'education', 'marital-status', 'workclass', 'occupation', 'income']\n",
    "y_col = ['label']"
   ]
  },
  {
   "cell_type": "code",
   "execution_count": 10,
   "metadata": {},
   "outputs": [],
   "source": [
    "continueous_columns = []\n",
    "for i in df.columns:\n",
    "    if i in category_columns:\n",
    "        pass\n",
    "    elif i in y_col:\n",
    "        pass\n",
    "    else:\n",
    "        continueous_columns.append(i)"
   ]
  },
  {
   "cell_type": "code",
   "execution_count": 11,
   "metadata": {},
   "outputs": [
    {
     "data": {
      "text/plain": [
       "['age', 'education-num', 'hours-per-week']"
      ]
     },
     "execution_count": 11,
     "metadata": {},
     "output_type": "execute_result"
    }
   ],
   "source": [
    "continueous_columns"
   ]
  },
  {
   "cell_type": "code",
   "execution_count": null,
   "metadata": {},
   "outputs": [],
   "source": []
  },
  {
   "cell_type": "code",
   "execution_count": 12,
   "metadata": {},
   "outputs": [],
   "source": [
    "from sklearn.preprocessing import LabelEncoder"
   ]
  },
  {
   "cell_type": "code",
   "execution_count": 13,
   "metadata": {},
   "outputs": [],
   "source": [
    "label_encoder = LabelEncoder()"
   ]
  },
  {
   "cell_type": "code",
   "execution_count": 14,
   "metadata": {},
   "outputs": [],
   "source": [
    "for i in category_columns:\n",
    "    df[i] = label_encoder.fit_transform(df[i])"
   ]
  },
  {
   "cell_type": "code",
   "execution_count": 15,
   "metadata": {},
   "outputs": [
    {
     "data": {
      "text/html": [
       "<div>\n",
       "<style scoped>\n",
       "    .dataframe tbody tr th:only-of-type {\n",
       "        vertical-align: middle;\n",
       "    }\n",
       "\n",
       "    .dataframe tbody tr th {\n",
       "        vertical-align: top;\n",
       "    }\n",
       "\n",
       "    .dataframe thead th {\n",
       "        text-align: right;\n",
       "    }\n",
       "</style>\n",
       "<table border=\"1\" class=\"dataframe\">\n",
       "  <thead>\n",
       "    <tr style=\"text-align: right;\">\n",
       "      <th></th>\n",
       "      <th>age</th>\n",
       "      <th>sex</th>\n",
       "      <th>education</th>\n",
       "      <th>education-num</th>\n",
       "      <th>marital-status</th>\n",
       "      <th>workclass</th>\n",
       "      <th>occupation</th>\n",
       "      <th>hours-per-week</th>\n",
       "      <th>income</th>\n",
       "      <th>label</th>\n",
       "    </tr>\n",
       "  </thead>\n",
       "  <tbody>\n",
       "    <tr>\n",
       "      <th>0</th>\n",
       "      <td>27</td>\n",
       "      <td>1</td>\n",
       "      <td>10</td>\n",
       "      <td>9</td>\n",
       "      <td>3</td>\n",
       "      <td>2</td>\n",
       "      <td>1</td>\n",
       "      <td>40</td>\n",
       "      <td>0</td>\n",
       "      <td>0</td>\n",
       "    </tr>\n",
       "    <tr>\n",
       "      <th>1</th>\n",
       "      <td>47</td>\n",
       "      <td>1</td>\n",
       "      <td>11</td>\n",
       "      <td>14</td>\n",
       "      <td>1</td>\n",
       "      <td>1</td>\n",
       "      <td>2</td>\n",
       "      <td>50</td>\n",
       "      <td>1</td>\n",
       "      <td>1</td>\n",
       "    </tr>\n",
       "    <tr>\n",
       "      <th>2</th>\n",
       "      <td>59</td>\n",
       "      <td>1</td>\n",
       "      <td>10</td>\n",
       "      <td>9</td>\n",
       "      <td>0</td>\n",
       "      <td>3</td>\n",
       "      <td>7</td>\n",
       "      <td>20</td>\n",
       "      <td>0</td>\n",
       "      <td>0</td>\n",
       "    </tr>\n",
       "    <tr>\n",
       "      <th>3</th>\n",
       "      <td>38</td>\n",
       "      <td>0</td>\n",
       "      <td>12</td>\n",
       "      <td>15</td>\n",
       "      <td>3</td>\n",
       "      <td>0</td>\n",
       "      <td>7</td>\n",
       "      <td>57</td>\n",
       "      <td>1</td>\n",
       "      <td>1</td>\n",
       "    </tr>\n",
       "    <tr>\n",
       "      <th>4</th>\n",
       "      <td>64</td>\n",
       "      <td>0</td>\n",
       "      <td>1</td>\n",
       "      <td>7</td>\n",
       "      <td>5</td>\n",
       "      <td>2</td>\n",
       "      <td>3</td>\n",
       "      <td>40</td>\n",
       "      <td>0</td>\n",
       "      <td>0</td>\n",
       "    </tr>\n",
       "  </tbody>\n",
       "</table>\n",
       "</div>"
      ],
      "text/plain": [
       "   age  sex  education  education-num  marital-status  workclass  occupation  \\\n",
       "0   27    1         10              9               3          2           1   \n",
       "1   47    1         11             14               1          1           2   \n",
       "2   59    1         10              9               0          3           7   \n",
       "3   38    0         12             15               3          0           7   \n",
       "4   64    0          1              7               5          2           3   \n",
       "\n",
       "   hours-per-week  income  label  \n",
       "0              40       0      0  \n",
       "1              50       1      1  \n",
       "2              20       0      0  \n",
       "3              57       1      1  \n",
       "4              40       0      0  "
      ]
     },
     "execution_count": 15,
     "metadata": {},
     "output_type": "execute_result"
    }
   ],
   "source": [
    "df.head()"
   ]
  },
  {
   "cell_type": "code",
   "execution_count": 16,
   "metadata": {},
   "outputs": [],
   "source": [
    "import numpy as np"
   ]
  },
  {
   "cell_type": "code",
   "execution_count": 17,
   "metadata": {},
   "outputs": [],
   "source": [
    "category_features = torch.tensor(np.stack([df[i].values for i in category_columns], axis = 1), dtype = torch.int64)"
   ]
  },
  {
   "cell_type": "code",
   "execution_count": 18,
   "metadata": {},
   "outputs": [
    {
     "data": {
      "text/plain": [
       "tensor([[ 1, 10,  3,  2,  1,  0],\n",
       "        [ 1, 11,  1,  1,  2,  1],\n",
       "        [ 1, 10,  0,  3,  7,  0],\n",
       "        ...,\n",
       "        [ 1, 12,  1,  2,  7,  1],\n",
       "        [ 0, 13,  3,  2,  0,  0],\n",
       "        [ 1,  6,  1,  3,  2,  1]])"
      ]
     },
     "execution_count": 18,
     "metadata": {},
     "output_type": "execute_result"
    }
   ],
   "source": [
    "category_features"
   ]
  },
  {
   "cell_type": "code",
   "execution_count": 19,
   "metadata": {},
   "outputs": [],
   "source": [
    "continueous_features = torch.tensor(np.stack([df[i].values for i in continueous_columns], axis = 1),dtype = torch.float)"
   ]
  },
  {
   "cell_type": "code",
   "execution_count": 20,
   "metadata": {},
   "outputs": [
    {
     "data": {
      "text/plain": [
       "tensor([[27.,  9., 40.],\n",
       "        [47., 14., 50.],\n",
       "        [59.,  9., 20.],\n",
       "        ...,\n",
       "        [47., 15., 55.],\n",
       "        [32., 10., 40.],\n",
       "        [33., 12., 60.]])"
      ]
     },
     "execution_count": 20,
     "metadata": {},
     "output_type": "execute_result"
    }
   ],
   "source": [
    "continueous_features"
   ]
  },
  {
   "cell_type": "code",
   "execution_count": 21,
   "metadata": {},
   "outputs": [],
   "source": [
    "y = torch.tensor(df[y_col].values).flatten()"
   ]
  },
  {
   "cell_type": "code",
   "execution_count": 22,
   "metadata": {},
   "outputs": [
    {
     "data": {
      "text/plain": [
       "tensor([0, 1, 0,  ..., 1, 0, 1])"
      ]
     },
     "execution_count": 22,
     "metadata": {},
     "output_type": "execute_result"
    }
   ],
   "source": [
    "y"
   ]
  },
  {
   "cell_type": "code",
   "execution_count": 23,
   "metadata": {},
   "outputs": [],
   "source": [
    "b = 30000\n",
    "t = 5000\n",
    "\n",
    "cat_train = category_features[:b-t].cuda()\n",
    "cat_test = category_features[b-t:b].cuda()\n",
    "cont_train = continueous_features[:b-t].cuda()\n",
    "cont_test = continueous_features[b-t:b].cuda()\n",
    "\n",
    "y_train = y[:b-t].cuda()\n",
    "y_test = y[b-t:b].cuda()"
   ]
  },
  {
   "cell_type": "code",
   "execution_count": 24,
   "metadata": {},
   "outputs": [],
   "source": [
    "cat_size = [df[i].nunique() for i in category_columns ]\n",
    "embedding_size = [(size, min(50, (size+1)//2)) for size in cat_size]"
   ]
  },
  {
   "cell_type": "code",
   "execution_count": 25,
   "metadata": {},
   "outputs": [
    {
     "data": {
      "text/plain": [
       "[(2, 1), (14, 7), (6, 3), (5, 3), (12, 6), (2, 1)]"
      ]
     },
     "execution_count": 25,
     "metadata": {},
     "output_type": "execute_result"
    }
   ],
   "source": [
    "embedding_size"
   ]
  },
  {
   "cell_type": "code",
   "execution_count": 26,
   "metadata": {},
   "outputs": [],
   "source": [
    "class TModel(nn.Module):\n",
    "    def __init__(self,embed_sz, n_cont, out_sz, layers, p=0.50):\n",
    "        super().__init__()\n",
    "        self.embeds = nn.ModuleList([nn.Embedding(i,o) for i,o in embedding_size])\n",
    "        self.emb_drop = nn.Dropout(p)\n",
    "        self.bn_cont = nn.BatchNorm1d(n_cont)\n",
    "        \n",
    "        n_emb = sum((o for i,o in embedding_size))\n",
    "        n_in = n_cont + n_emb\n",
    "        \n",
    "        layerlist = []\n",
    "        for i in layers:\n",
    "            layerlist.append(nn.Linear(n_in, i))\n",
    "            layerlist.append(nn.ReLU(inplace = True))\n",
    "            layerlist.append(nn.BatchNorm1d(i))\n",
    "            layerlist.append(nn.Dropout(p))\n",
    "            n_in = i\n",
    "            \n",
    "        layerlist.append(nn.Linear(layers[-1], out_sz))\n",
    "        self.layers = nn.Sequential(*layerlist)\n",
    "        \n",
    "    def forward(self,x_cat,x_cont):\n",
    "        embeddings = []\n",
    "        for i,o in enumerate(self.embeds):\n",
    "            embeddings.append(o(x_cat[:,i]))\n",
    "        x = torch.cat(embeddings, axis = 1)\n",
    "        x = self.emb_drop(x)\n",
    "        \n",
    "        x_cont = self.bn_cont(x_cont)\n",
    "        x = torch.cat([x,x_cont], axis = 1)\n",
    "        x = self.layers(x)\n",
    "        \n",
    "        return x"
   ]
  },
  {
   "cell_type": "code",
   "execution_count": 27,
   "metadata": {},
   "outputs": [],
   "source": [
    "torch.manual_seed(33)\n",
    "my_model = TModel(embedding_size, continueous_features.shape[1], 2, [50,20,10], p=0.4)"
   ]
  },
  {
   "cell_type": "code",
   "execution_count": 28,
   "metadata": {},
   "outputs": [],
   "source": [
    "my_model = my_model.cuda()"
   ]
  },
  {
   "cell_type": "code",
   "execution_count": 29,
   "metadata": {},
   "outputs": [],
   "source": [
    "criterion = nn.CrossEntropyLoss()\n",
    "optimizer = torch.optim.Adam(my_model.parameters(), lr = 0.001)"
   ]
  },
  {
   "cell_type": "code",
   "execution_count": 30,
   "metadata": {},
   "outputs": [
    {
     "name": "stdout",
     "output_type": "stream",
     "text": [
      "epochs: 1 loss: 0.743656575679779\n",
      "epochs: 11 loss: 0.6786283850669861\n",
      "epochs: 21 loss: 0.639193058013916\n",
      "epochs: 31 loss: 0.6043787598609924\n",
      "epochs: 41 loss: 0.5693156719207764\n",
      "epochs: 51 loss: 0.5370675921440125\n",
      "epochs: 61 loss: 0.503231942653656\n",
      "epochs: 71 loss: 0.46990981698036194\n",
      "epochs: 81 loss: 0.43580204248428345\n",
      "epochs: 91 loss: 0.39429330825805664\n",
      "epochs: 101 loss: 0.3693001866340637\n",
      "epochs: 111 loss: 0.3255128562450409\n",
      "epochs: 121 loss: 0.30492734909057617\n",
      "epochs: 131 loss: 0.2785167098045349\n",
      "epochs: 141 loss: 0.26298046112060547\n",
      "epochs: 151 loss: 0.2407107800245285\n",
      "epochs: 161 loss: 0.23008829355239868\n",
      "epochs: 171 loss: 0.22608238458633423\n",
      "epochs: 181 loss: 0.20448608696460724\n",
      "epochs: 191 loss: 0.19882647693157196\n",
      "epochs: 201 loss: 0.19330941140651703\n",
      "epochs: 211 loss: 0.1884610503911972\n",
      "epochs: 221 loss: 0.18320126831531525\n",
      "epochs: 231 loss: 0.18006548285484314\n",
      "epochs: 241 loss: 0.17544250190258026\n",
      "epochs: 251 loss: 0.17119263112545013\n",
      "epochs: 261 loss: 0.16749073565006256\n",
      "epochs: 271 loss: 0.16630183160305023\n",
      "epochs: 281 loss: 0.1630014330148697\n",
      "epochs: 291 loss: 0.16012227535247803\n",
      "epochs: 301 loss: 0.15300266444683075\n",
      "epochs: 311 loss: 0.15403051674365997\n",
      "epochs: 321 loss: 0.15049494802951813\n",
      "epochs: 331 loss: 0.14701704680919647\n",
      "epochs: 341 loss: 0.15038669109344482\n",
      "epochs: 351 loss: 0.1463472545146942\n",
      "epochs: 361 loss: 0.14546789228916168\n",
      "epochs: 371 loss: 0.14204098284244537\n",
      "epochs: 381 loss: 0.14439380168914795\n",
      "epochs: 391 loss: 0.14242592453956604\n",
      "epochs: 401 loss: 0.14587503671646118\n",
      "epochs: 411 loss: 0.1390227973461151\n",
      "epochs: 421 loss: 0.13861830532550812\n",
      "epochs: 431 loss: 0.14226967096328735\n",
      "epochs: 441 loss: 0.1386343389749527\n",
      "epochs: 451 loss: 0.14066237211227417\n",
      "epochs: 461 loss: 0.1334715485572815\n",
      "epochs: 471 loss: 0.13530753552913666\n",
      "epochs: 481 loss: 0.13208822906017303\n",
      "epochs: 491 loss: 0.12910504639148712\n",
      "epochs: 499 loss: 0.1281205713748932\n",
      "time: 0.7354606072107951 mins\n"
     ]
    }
   ],
   "source": [
    "import time \n",
    "start_time = time.time()\n",
    "epochs = 500\n",
    "losses = []\n",
    "\n",
    "for i in range(epochs):\n",
    "    y_pred = my_model(cat_train,cont_train)\n",
    "    \n",
    "    loss = criterion(y_pred, y_train)\n",
    "    losses.append(loss)\n",
    "    \n",
    "    if i%10 ==1:\n",
    "        print(f'epochs: {i} loss: {loss.item()}')\n",
    "    \n",
    "    optimizer.zero_grad()\n",
    "    loss.backward()\n",
    "    optimizer.step()\n",
    "    \n",
    "print(f'epochs: {i} loss: {loss.item()}')\n",
    "print(f\"time: {(time.time()-start_time)/60} mins\")"
   ]
  },
  {
   "cell_type": "code",
   "execution_count": 31,
   "metadata": {},
   "outputs": [
    {
     "data": {
      "text/plain": [
       "Text(0, 0.5, 'loss')"
      ]
     },
     "execution_count": 31,
     "metadata": {},
     "output_type": "execute_result"
    },
    {
     "data": {
      "image/png": "[encoded data removed]",
      "text/plain": [
       "<Figure size 432x288 with 1 Axes>"
      ]
     },
     "metadata": {
      "needs_background": "light"
     },
     "output_type": "display_data"
    }
   ],
   "source": [
    "plt.plot(range(epochs),losses)\n",
    "plt.xlabel('epochs')\n",
    "plt.ylabel('loss')"
   ]
  },
  {
   "cell_type": "code",
   "execution_count": 32,
   "metadata": {},
   "outputs": [
    {
     "name": "stdout",
     "output_type": "stream",
     "text": [
      "loss: 0.1352299004793167\n"
     ]
    }
   ],
   "source": [
    "with torch.no_grad():\n",
    "    y_val = my_model(cat_test,cont_test)\n",
    "    loss = criterion(y_val, y_test)\n",
    "print(f'loss: {loss}')"
   ]
  },
  {
   "cell_type": "code",
   "execution_count": 33,
   "metadata": {},
   "outputs": [
    {
     "name": "stdout",
     "output_type": "stream",
     "text": [
      "model_output               predicted_y test_y\n",
      "tensor([-0.9557,  0.4852], device='cuda:0')     1         1    \n",
      "tensor([ 1.5871, -0.9286], device='cuda:0')     0         0    \n",
      "tensor([-4.1142,  3.5873], device='cuda:0')     1         1    \n",
      "tensor([ 2.4902, -3.3146], device='cuda:0')     0         0    \n",
      "tensor([ 3.5185, -2.6831], device='cuda:0')     0         0    \n",
      "tensor([ 1.1248, -1.7839], device='cuda:0')     0         0    \n",
      "tensor([ 3.4088, -5.2050], device='cuda:0')     0         0    \n",
      "tensor([ 4.5535, -4.8769], device='cuda:0')     0         0    \n",
      "tensor([ 3.7625, -3.6417], device='cuda:0')     0         0    \n",
      "tensor([ 2.4956, -3.3952], device='cuda:0')     0         0    \n",
      "tensor([ 1.4234, -2.3689], device='cuda:0')     0         0    \n",
      "tensor([-2.6896,  1.8659], device='cuda:0')     1         1    \n",
      "tensor([-2.8494,  1.7350], device='cuda:0')     1         1    \n",
      "tensor([ 0.5762, -1.4096], device='cuda:0')     0         0    \n",
      "tensor([ 2.6410, -3.0076], device='cuda:0')     0         0    \n",
      "tensor([-7.6122,  6.0563], device='cuda:0')     1         1    \n",
      "tensor([ 3.1667, -3.9652], device='cuda:0')     0         0    \n",
      "tensor([ 2.3821, -2.4971], device='cuda:0')     0         0    \n",
      "tensor([-0.0103,  0.1045], device='cuda:0')     1         1    \n",
      "tensor([ 2.3937, -4.1818], device='cuda:0')     0         0    \n",
      "tensor([ 1.0816, -2.5571], device='cuda:0')     0         0    \n",
      "tensor([ 1.6295, -3.2801], device='cuda:0')     0         0    \n",
      "tensor([ 2.4404, -2.6940], device='cuda:0')     0         0    \n",
      "tensor([ 1.9825, -3.2692], device='cuda:0')     0         0    \n",
      "tensor([ 0.1077, -0.6347], device='cuda:0')     0         0    \n",
      "tensor([ 2.3476, -2.9587], device='cuda:0')     0         0    \n",
      "tensor([ 2.5600, -3.5665], device='cuda:0')     0         0    \n",
      "tensor([-3.5103,  3.2482], device='cuda:0')     1         1    \n",
      "tensor([-0.3170, -0.5500], device='cuda:0')     0         0    \n",
      "tensor([ 2.8548, -4.2595], device='cuda:0')     0         0    \n",
      "tensor([-5.0785,  2.0344], device='cuda:0')     1         1    \n",
      "tensor([ 1.1751, -1.8512], device='cuda:0')     0         0    \n",
      "tensor([-2.8852,  3.2891], device='cuda:0')     1         1    \n",
      "tensor([ 2.5581, -2.6679], device='cuda:0')     0         0    \n",
      "tensor([ 1.5008, -2.2615], device='cuda:0')     0         0    \n",
      "tensor([ 2.8776, -3.6874], device='cuda:0')     0         0    \n",
      "tensor([ 3.4032, -2.6223], device='cuda:0')     0         0    \n",
      "tensor([ 2.1518, -2.1041], device='cuda:0')     0         0    \n",
      "tensor([ 3.6774, -4.8162], device='cuda:0')     0         0    \n",
      "tensor([ 2.6584, -2.5015], device='cuda:0')     0         0    \n",
      "tensor([-0.1828, -0.1536], device='cuda:0')     1         0    \n",
      "tensor([ 1.7851, -4.0816], device='cuda:0')     0         0    \n",
      "tensor([-5.3117,  6.3040], device='cuda:0')     1         1    \n",
      "tensor([ 3.4487, -1.8834], device='cuda:0')     0         0    \n",
      "tensor([-3.3496,  4.0404], device='cuda:0')     1         1    \n",
      "tensor([ 3.8673, -3.3710], device='cuda:0')     0         0    \n",
      "tensor([ 1.9462, -2.4720], device='cuda:0')     0         0    \n",
      "tensor([ 3.1613, -2.0948], device='cuda:0')     0         0    \n",
      "tensor([ 3.5504, -2.9555], device='cuda:0')     0         0    \n",
      "tensor([ 2.0968, -2.0384], device='cuda:0')     0         0    \n",
      "\n",
      "49 out of 49 = 100.00% correct\n"
     ]
    }
   ],
   "source": [
    "count = 50\n",
    "correct = 0\n",
    "\n",
    "print(f'{\"model_output\":26} predicted_y test_y')\n",
    "\n",
    "for i in range(count):\n",
    "    print(f'{str(y_val[i]):26} {y_val[i].argmax():^9} {y_test[i]:^9}')\n",
    "    if y_val[i].argmax().item() == y_test[i]:\n",
    "        correct+=1\n",
    "print(f'\\n{correct} out of {i} = {100*correct/i:.2f}% correct')"
   ]
  },
  {
   "cell_type": "code",
   "execution_count": 34,
   "metadata": {},
   "outputs": [],
   "source": [
    "torch.save(my_model.state_dict(), 'Cencus_income.pt')"
   ]
  },
  {
   "cell_type": "code",
   "execution_count": null,
   "metadata": {},
   "outputs": [],
   "source": []
  }
 ],
 "metadata": {
  "kernelspec": {
   "display_name": "Python 3",
   "language": "python",
   "name": "python3"
  },
  "language_info": {
   "codemirror_mode": {
    "name": "ipython",
    "version": 3
   },
   "file_extension": ".py",
   "mimetype": "text/x-python",
   "name": "python",
   "nbconvert_exporter": "python",
   "pygments_lexer": "ipython3",
   "version": "3.7.6"
  }
 },
 "nbformat": 4,
 "nbformat_minor": 4
}
